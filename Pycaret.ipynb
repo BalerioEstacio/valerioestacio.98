{
  "nbformat": 4,
  "nbformat_minor": 0,
  "metadata": {
    "colab": {
      "name": "Pycaret.ipynb",
      "provenance": [],
      "include_colab_link": true
    },
    "kernelspec": {
      "name": "python3",
      "display_name": "Python 3"
    }
  },
  "cells": [
    {
      "cell_type": "markdown",
      "metadata": {
        "id": "view-in-github",
        "colab_type": "text"
      },
      "source": [
        "<a href=\"https://colab.research.google.com/github/BalerioEstacio/valerioestacio.98/blob/gh-pages/Pycaret.ipynb\" target=\"_parent\"><img src=\"https://colab.research.google.com/assets/colab-badge.svg\" alt=\"Open In Colab\"/></a>"
      ]
    },
    {
      "cell_type": "code",
      "metadata": {
        "id": "mUQC6ecmBcMf"
      },
      "source": [
        "!pip install pycaret"
      ],
      "execution_count": null,
      "outputs": []
    },
    {
      "cell_type": "code",
      "metadata": {
        "id": "B5-KoEdrB5kA"
      },
      "source": [
        " from pycaret.utils import enable_colab\n",
        "enable_colab()"
      ],
      "execution_count": null,
      "outputs": []
    },
    {
      "cell_type": "code",
      "metadata": {
        "id": "xP9Sxw0uCFjp"
      },
      "source": [
        " from pycaret.datasets import get_data\n",
        "dataset = get_data('diamond')"
      ],
      "execution_count": null,
      "outputs": []
    },
    {
      "cell_type": "code",
      "metadata": {
        "id": "rQhUYTwjCzXz"
      },
      "source": [
        " data = dataset.sample(frac=0.9, random_state=786)\n",
        "data_unseen = dataset.drop(data.index)\n",
        " \n",
        "data.reset_index(drop=True, inplace=True)\n",
        "data_unseen.reset_index(drop=True, inplace=True)\n",
        " \n",
        "print('Data for Modeling: ' + str(data.shape))\n",
        "print('Unseen Data For Predictions: ' + str(data_unseen.shape))"
      ],
      "execution_count": null,
      "outputs": []
    },
    {
      "cell_type": "code",
      "metadata": {
        "id": "TPoGePT3CIiS"
      },
      "source": [
        " from pycaret.regression import *\n",
        "exp_reg101 = setup(data = data, target = 'Price', session_id=123)"
      ],
      "execution_count": null,
      "outputs": []
    },
    {
      "cell_type": "code",
      "metadata": {
        "id": "zn3yeKLZDbio"
      },
      "source": [
        " best = compare_models(exclude = ['ransac'])"
      ],
      "execution_count": null,
      "outputs": []
    },
    {
      "cell_type": "code",
      "metadata": {
        "id": "LbCso3KY7FYn"
      },
      "source": [
        "# compare models\r\n",
        "\r\n",
        "best = automl(optimize = 'RMSE'))\r\n",
        "# save best model\r\n",
        "save_model(best, 'best-model-power')\r\n",
        "# return the performance metrics df\r\n",
        "dataset = results"
      ],
      "execution_count": null,
      "outputs": []
    },
    {
      "cell_type": "code",
      "metadata": {
        "id": "Sfy-wjoi7Xn-"
      },
      "source": [
        "# load functions from regression module\r\n",
        "from pycaret.regression import load_model, predict_model\r\n",
        "# load model in a variable\r\n",
        "model = load_model(‘'best-model-power'’)\r\n",
        "# predict charges\r\n",
        "dataset = predict_model(model, data=dataset)"
      ],
      "execution_count": null,
      "outputs": []
    }
  ]
}